{
 "cells": [
  {
   "cell_type": "code",
   "execution_count": 1,
   "id": "91acd8b6-38a2-4e39-8b4c-8d5814231ae9",
   "metadata": {},
   "outputs": [],
   "source": [
    "from joblib import dump , load\n",
    "import numpy as np\n",
    "model = load('Real Estate')"
   ]
  },
  {
   "cell_type": "code",
   "execution_count": 3,
   "id": "fa4491c3-48e9-4272-b623-0b84cecad7df",
   "metadata": {},
   "outputs": [
    {
     "data": {
      "text/plain": [
       "array([22.416])"
      ]
     },
     "execution_count": 3,
     "metadata": {},
     "output_type": "execute_result"
    }
   ],
   "source": [
    "features = np.array([[0.06905,\t0,\t2.18\t,0,\t0.458,\t7.147,\t54.2,\t6.0622,\t3,\t222\t,18.7\t,396.9\t,5.33\n",
    "\n",
    "\n",
    "\n",
    "\n",
    "]])\n",
    "model.predict(features)\n"
   ]
  },
  {
   "cell_type": "code",
   "execution_count": null,
   "id": "88b36781-ebb3-46a8-a913-3238e5000239",
   "metadata": {},
   "outputs": [],
   "source": []
  }
 ],
 "metadata": {
  "kernelspec": {
   "display_name": "Python 3 (ipykernel)",
   "language": "python",
   "name": "python3"
  },
  "language_info": {
   "codemirror_mode": {
    "name": "ipython",
    "version": 3
   },
   "file_extension": ".py",
   "mimetype": "text/x-python",
   "name": "python",
   "nbconvert_exporter": "python",
   "pygments_lexer": "ipython3",
   "version": "3.12.3"
  }
 },
 "nbformat": 4,
 "nbformat_minor": 5
}
