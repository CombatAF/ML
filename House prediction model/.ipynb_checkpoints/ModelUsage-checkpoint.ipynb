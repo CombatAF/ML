{
 "cells": [
  {
   "cell_type": "code",
   "execution_count": 2,
   "id": "91acd8b6-38a2-4e39-8b4c-8d5814231ae9",
   "metadata": {},
   "outputs": [],
   "source": [
    "from joblib import dump , load\n",
    "import numpy as np\n",
    "model = load('Real Estate')"
   ]
  },
  {
   "cell_type": "code",
   "execution_count": 8,
   "id": "fa4491c3-48e9-4272-b623-0b84cecad7df",
   "metadata": {},
   "outputs": [
    {
     "data": {
      "text/plain": [
       "array([22.378])"
      ]
     },
     "execution_count": 8,
     "metadata": {},
     "output_type": "execute_result"
    }
   ],
   "source": [
    "features = np.array([[-0.43942006,  3.12628155, -1.12165014, -0.27288841, -1.42262747,\n",
    "       -0.23979304, -1.31238772,  2.61111401, -1.0016859 , -0.5778192 ,\n",
    "       -0.97491834,  0.41164221, -0.86091034]])\n",
    "model.predict(features)\n"
   ]
  },
  {
   "cell_type": "code",
   "execution_count": null,
   "id": "88b36781-ebb3-46a8-a913-3238e5000239",
   "metadata": {},
   "outputs": [],
   "source": []
  }
 ],
 "metadata": {
  "kernelspec": {
   "display_name": "Python 3 (ipykernel)",
   "language": "python",
   "name": "python3"
  },
  "language_info": {
   "codemirror_mode": {
    "name": "ipython",
    "version": 3
   },
   "file_extension": ".py",
   "mimetype": "text/x-python",
   "name": "python",
   "nbconvert_exporter": "python",
   "pygments_lexer": "ipython3",
   "version": "3.12.3"
  }
 },
 "nbformat": 4,
 "nbformat_minor": 5
}
